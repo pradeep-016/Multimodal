{
  "cells": [
    {
      "cell_type": "markdown",
      "metadata": {
        "id": "view-in-github",
        "colab_type": "text"
      },
      "source": [
        "<a href=\"https://colab.research.google.com/github/pradeep-016/Multimodal/blob/main/Mulit_Model_Architecture.ipynb\" target=\"_parent\"><img src=\"https://colab.research.google.com/assets/colab-badge.svg\" alt=\"Open In Colab\"/></a>"
      ]
    },
    {
      "cell_type": "code",
      "source": [
        "import numpy as np\n",
        "from sklearn.model_selection import train_test_split\n",
        "import tensorflow as tf\n",
        "from tensorflow.keras.layers import Input, Conv2D, MaxPooling2D, LSTM, Dense, Flatten, Embedding, concatenate, Reshape\n",
        "from tensorflow.keras.models import Model\n",
        "from tensorflow.keras.datasets import cifar10\n",
        "from tensorflow.keras.datasets import imdb\n",
        "from tensorflow.keras.preprocessing.sequence import pad_sequences"
      ],
      "metadata": {
        "id": "JgguNmHPac5F"
      },
      "execution_count": 1,
      "outputs": []
    },
    {
      "cell_type": "code",
      "source": [
        "# Load CIFAR-10 dataset\n",
        "(x_train_images, y_train_images), (x_test_images, y_test_images) = cifar10.load_data()\n",
        "x_train_images = x_train_images.astype('float32') / 255.0\n",
        "x_test_images = x_test_images.astype('float32') / 255.0"
      ],
      "metadata": {
        "id": "_jpqzyQiaewf",
        "colab": {
          "base_uri": "https://localhost:8080/"
        },
        "outputId": "7d2c5701-b4d8-460a-c38b-aa1fd0fdc937"
      },
      "execution_count": 2,
      "outputs": [
        {
          "output_type": "stream",
          "name": "stdout",
          "text": [
            "Downloading data from https://www.cs.toronto.edu/~kriz/cifar-10-python.tar.gz\n",
            "170498071/170498071 [==============================] - 2s 0us/step\n"
          ]
        }
      ]
    },
    {
      "cell_type": "code",
      "source": [
        "# Load IMDb dataset\n",
        "max_features = 10000  # Consider the top N most frequent words\n",
        "maxlen = 100  # Cut texts after this number of words (among top max_features most common words)\n",
        "(x_train_text, y_train_text), (x_test_text, y_test_text) = imdb.load_data(num_words=max_features)\n",
        "x_train_text = pad_sequences(x_train_text, maxlen=maxlen)\n",
        "x_test_text = pad_sequences(x_test_text, maxlen=maxlen)"
      ],
      "metadata": {
        "id": "KKY-N7qJagoC",
        "colab": {
          "base_uri": "https://localhost:8080/"
        },
        "outputId": "02bd91f8-bd77-43d2-bbdd-645bd1b026c2"
      },
      "execution_count": 3,
      "outputs": [
        {
          "output_type": "stream",
          "name": "stdout",
          "text": [
            "Downloading data from https://storage.googleapis.com/tensorflow/tf-keras-datasets/imdb.npz\n",
            "17464789/17464789 [==============================] - 0s 0us/step\n"
          ]
        }
      ]
    },
    {
      "cell_type": "code",
      "source": [
        "# Ensure the same number of samples for both image and text data\n",
        "num_samples = min(x_train_images.shape[0], x_train_text.shape[0])\n",
        "x_train_images = x_train_images[:num_samples]\n",
        "x_train_text = x_train_text[:num_samples]\n",
        "y_train = y_train_text[:num_samples]"
      ],
      "metadata": {
        "id": "gTrWEXd1ah_B"
      },
      "execution_count": 4,
      "outputs": []
    },
    {
      "cell_type": "code",
      "source": [
        "# Split the data into training and validation sets\n",
        "x_train_images, x_val_images, x_train_text, x_val_text, y_train, y_val = train_test_split(\n",
        "x_train_images, x_train_text, y_train, test_size=0.2, random_state=42)"
      ],
      "metadata": {
        "id": "6DoD1fmqajrC"
      },
      "execution_count": 5,
      "outputs": []
    },
    {
      "cell_type": "code",
      "source": [
        "# Define input shapes\n",
        "image_input_shape = (32, 32, 3)  # Shape of CIFAR-10 images\n",
        "text_input_shape = (maxlen,)      # Shape of text data (e.g., sequences of length 100)"
      ],
      "metadata": {
        "id": "GKN6ASHEanP3"
      },
      "execution_count": 6,
      "outputs": []
    },
    {
      "cell_type": "code",
      "source": [
        "# Define CNN model for image processing\n",
        "image_input = Input(shape=image_input_shape)\n",
        "conv1 = Conv2D(32, (3, 3), activation='relu')(image_input)\n",
        "maxpool1 = MaxPooling2D((2, 2))(conv1)\n",
        "conv2 = Conv2D(64, (3, 3), activation='relu')(maxpool1)\n",
        "maxpool2 = MaxPooling2D((2, 2))(conv2)\n",
        "flatten_image = Flatten()(maxpool2)\n",
        "\n",
        "cnn_model = Model(inputs=image_input, outputs=flatten_image)"
      ],
      "metadata": {
        "id": "Y0id-CGYapif"
      },
      "execution_count": 7,
      "outputs": []
    },
    {
      "cell_type": "code",
      "source": [
        "# Define RNN model for text processing\n",
        "text_input = Input(shape=text_input_shape)\n",
        "embedding = Embedding(input_dim=max_features, output_dim=128)(text_input)\n",
        "reshape_text = Reshape((maxlen, 128, 1))(embedding)  # Add a channel dimension for compatibility with Conv2D\n",
        "conv_text = Conv2D(32, (3, 3), activation='relu')(reshape_text)\n",
        "maxpool_text = MaxPooling2D((2, 2))(conv_text)\n",
        "flatten_text = Flatten()(maxpool_text)\n",
        "\n",
        "rnn_model = Model(inputs=text_input, outputs=flatten_text)"
      ],
      "metadata": {
        "id": "pBt9UrkOarkV"
      },
      "execution_count": 8,
      "outputs": []
    },
    {
      "cell_type": "code",
      "source": [
        "# Concatenate the outputs of CNN and RNN models\n",
        "combined_output = concatenate([cnn_model.output, rnn_model.output])"
      ],
      "metadata": {
        "id": "vrndcNYgatY_"
      },
      "execution_count": 9,
      "outputs": []
    },
    {
      "cell_type": "code",
      "source": [
        "# Add a fully connected layer for classification\n",
        "dense1 = Dense(128, activation='relu')(combined_output)\n",
        "output = Dense(1, activation='sigmoid')(dense1)  # Binary classification for IMDb dataset"
      ],
      "metadata": {
        "id": "tMO0dzalavi_"
      },
      "execution_count": 10,
      "outputs": []
    },
    {
      "cell_type": "code",
      "source": [
        "# Create the final multi-model architecture\n",
        "multi_model = Model(inputs=[image_input, text_input], outputs=output)"
      ],
      "metadata": {
        "id": "Rn9HQNBLaxQ0"
      },
      "execution_count": 11,
      "outputs": []
    },
    {
      "cell_type": "code",
      "source": [
        "# Compile the model\n",
        "multi_model.compile(optimizer='adam', loss='binary_crossentropy', metrics=['accuracy'])"
      ],
      "metadata": {
        "id": "PVC-uV5Vayya"
      },
      "execution_count": 12,
      "outputs": []
    },
    {
      "cell_type": "code",
      "source": [
        "# Display model summary\n",
        "multi_model.summary()"
      ],
      "metadata": {
        "id": "gxoXPSHAa0RJ",
        "colab": {
          "base_uri": "https://localhost:8080/"
        },
        "outputId": "fd6a128c-cdab-4a6c-a4a4-9551e6c35a6f"
      },
      "execution_count": 13,
      "outputs": [
        {
          "output_type": "stream",
          "name": "stdout",
          "text": [
            "Model: \"model_2\"\n",
            "__________________________________________________________________________________________________\n",
            " Layer (type)                Output Shape                 Param #   Connected to                  \n",
            "==================================================================================================\n",
            " input_1 (InputLayer)        [(None, 32, 32, 3)]          0         []                            \n",
            "                                                                                                  \n",
            " input_2 (InputLayer)        [(None, 100)]                0         []                            \n",
            "                                                                                                  \n",
            " conv2d (Conv2D)             (None, 30, 30, 32)           896       ['input_1[0][0]']             \n",
            "                                                                                                  \n",
            " embedding (Embedding)       (None, 100, 128)             1280000   ['input_2[0][0]']             \n",
            "                                                                                                  \n",
            " max_pooling2d (MaxPooling2  (None, 15, 15, 32)           0         ['conv2d[0][0]']              \n",
            " D)                                                                                               \n",
            "                                                                                                  \n",
            " reshape (Reshape)           (None, 100, 128, 1)          0         ['embedding[0][0]']           \n",
            "                                                                                                  \n",
            " conv2d_1 (Conv2D)           (None, 13, 13, 64)           18496     ['max_pooling2d[0][0]']       \n",
            "                                                                                                  \n",
            " conv2d_2 (Conv2D)           (None, 98, 126, 32)          320       ['reshape[0][0]']             \n",
            "                                                                                                  \n",
            " max_pooling2d_1 (MaxPoolin  (None, 6, 6, 64)             0         ['conv2d_1[0][0]']            \n",
            " g2D)                                                                                             \n",
            "                                                                                                  \n",
            " max_pooling2d_2 (MaxPoolin  (None, 49, 63, 32)           0         ['conv2d_2[0][0]']            \n",
            " g2D)                                                                                             \n",
            "                                                                                                  \n",
            " flatten (Flatten)           (None, 2304)                 0         ['max_pooling2d_1[0][0]']     \n",
            "                                                                                                  \n",
            " flatten_1 (Flatten)         (None, 98784)                0         ['max_pooling2d_2[0][0]']     \n",
            "                                                                                                  \n",
            " concatenate (Concatenate)   (None, 101088)               0         ['flatten[0][0]',             \n",
            "                                                                     'flatten_1[0][0]']           \n",
            "                                                                                                  \n",
            " dense (Dense)               (None, 128)                  1293939   ['concatenate[0][0]']         \n",
            "                                                          2                                       \n",
            "                                                                                                  \n",
            " dense_1 (Dense)             (None, 1)                    129       ['dense[0][0]']               \n",
            "                                                                                                  \n",
            "==================================================================================================\n",
            "Total params: 14239233 (54.32 MB)\n",
            "Trainable params: 14239233 (54.32 MB)\n",
            "Non-trainable params: 0 (0.00 Byte)\n",
            "__________________________________________________________________________________________________\n"
          ]
        }
      ]
    },
    {
      "cell_type": "code",
      "source": [
        "# Train the model (example)\n",
        "history = multi_model.fit([x_train_images, x_train_text], y_train, epochs=15, batch_size=64, validation_data=([x_val_images, x_val_text], y_val))"
      ],
      "metadata": {
        "id": "i_XccGmKa2uh",
        "colab": {
          "base_uri": "https://localhost:8080/"
        },
        "outputId": "f0f90c06-2634-449a-fba9-19040add54d5"
      },
      "execution_count": 14,
      "outputs": [
        {
          "output_type": "stream",
          "name": "stdout",
          "text": [
            "Epoch 1/15\n",
            "313/313 [==============================] - 26s 61ms/step - loss: 0.4850 - accuracy: 0.7316 - val_loss: 0.3223 - val_accuracy: 0.8570\n",
            "Epoch 2/15\n",
            "313/313 [==============================] - 8s 27ms/step - loss: 0.2048 - accuracy: 0.9211 - val_loss: 0.3544 - val_accuracy: 0.8472\n",
            "Epoch 3/15\n",
            "313/313 [==============================] - 7s 24ms/step - loss: 0.0344 - accuracy: 0.9913 - val_loss: 0.5075 - val_accuracy: 0.8352\n",
            "Epoch 4/15\n",
            "313/313 [==============================] - 7s 23ms/step - loss: 0.0032 - accuracy: 0.9997 - val_loss: 0.6363 - val_accuracy: 0.8382\n",
            "Epoch 5/15\n",
            "313/313 [==============================] - 7s 22ms/step - loss: 3.4865e-04 - accuracy: 1.0000 - val_loss: 0.6693 - val_accuracy: 0.8414\n",
            "Epoch 6/15\n",
            "313/313 [==============================] - 6s 21ms/step - loss: 1.5752e-04 - accuracy: 1.0000 - val_loss: 0.6991 - val_accuracy: 0.8412\n",
            "Epoch 7/15\n",
            "313/313 [==============================] - 7s 21ms/step - loss: 1.0057e-04 - accuracy: 1.0000 - val_loss: 0.7224 - val_accuracy: 0.8414\n",
            "Epoch 8/15\n",
            "313/313 [==============================] - 6s 20ms/step - loss: 7.0805e-05 - accuracy: 1.0000 - val_loss: 0.7434 - val_accuracy: 0.8414\n",
            "Epoch 9/15\n",
            "313/313 [==============================] - 6s 21ms/step - loss: 5.1189e-05 - accuracy: 1.0000 - val_loss: 0.7622 - val_accuracy: 0.8422\n",
            "Epoch 10/15\n",
            "313/313 [==============================] - 6s 20ms/step - loss: 3.8569e-05 - accuracy: 1.0000 - val_loss: 0.7801 - val_accuracy: 0.8414\n",
            "Epoch 11/15\n",
            "313/313 [==============================] - 7s 22ms/step - loss: 2.9580e-05 - accuracy: 1.0000 - val_loss: 0.7968 - val_accuracy: 0.8408\n",
            "Epoch 12/15\n",
            "313/313 [==============================] - 6s 19ms/step - loss: 2.3058e-05 - accuracy: 1.0000 - val_loss: 0.8122 - val_accuracy: 0.8412\n",
            "Epoch 13/15\n",
            "313/313 [==============================] - 6s 20ms/step - loss: 1.8328e-05 - accuracy: 1.0000 - val_loss: 0.8269 - val_accuracy: 0.8418\n",
            "Epoch 14/15\n",
            "313/313 [==============================] - 7s 21ms/step - loss: 1.4657e-05 - accuracy: 1.0000 - val_loss: 0.8408 - val_accuracy: 0.8414\n",
            "Epoch 15/15\n",
            "313/313 [==============================] - 6s 19ms/step - loss: 1.1805e-05 - accuracy: 1.0000 - val_loss: 0.8546 - val_accuracy: 0.8416\n"
          ]
        }
      ]
    },
    {
      "cell_type": "code",
      "source": [
        "import matplotlib.pyplot as plt\n",
        "\n",
        "# Plot training history\n",
        "plt.figure(figsize=(12, 5))\n",
        "\n",
        "# Plot training and validation loss\n",
        "plt.subplot(1, 2, 1)\n",
        "plt.plot(history.history['loss'], label='Training Loss')\n",
        "plt.plot(history.history['val_loss'], label='Validation Loss')\n",
        "plt.xlabel('Epoch')\n",
        "plt.ylabel('Loss')\n",
        "plt.title('Training and Validation Loss')\n",
        "plt.legend()\n",
        "\n",
        "# Plot training and validation accuracy\n",
        "plt.subplot(1, 2, 2)\n",
        "plt.plot(history.history['accuracy'], label='Training Accuracy')\n",
        "plt.plot(history.history['val_accuracy'], label='Validation Accuracy')\n",
        "plt.xlabel('Epoch')\n",
        "plt.ylabel('Accuracy')\n",
        "plt.title('Training and Validation Accuracy')\n",
        "plt.legend()\n",
        "5\n",
        "plt.tight_layout()\n",
        "plt.show()"
      ],
      "metadata": {
        "id": "fcOJvL3yaWNt",
        "colab": {
          "base_uri": "https://localhost:8080/",
          "height": 507
        },
        "outputId": "0559da6f-00e3-4e0b-b0b0-70f7bd2781d1"
      },
      "execution_count": 15,
      "outputs": [
        {
          "output_type": "display_data",
          "data": {
            "text/plain": [
              "<Figure size 1200x500 with 2 Axes>"
            ],
            "image/png": "[encoded data removed]"
          },
          "metadata": {}
        }
      ]
    },
    {
      "cell_type": "code",
      "source": [
        "# Assuming x_test_text has 25000 samples and x_test_images has 10000 samples\n",
        "# Adjust the number of samples in x_test_images to match the number of samples in x_test_text\n",
        "num_samples = min(x_test_images.shape[0], x_test_text.shape[0])\n",
        "x_test_images = x_test_images[:num_samples]\n",
        "x_test_text = x_test_text[:num_samples]\n",
        "\n",
        "# Make predictions on test data in batches\n",
        "batch_size = 64\n",
        "predictions = []\n",
        "for i in range(0, num_samples, batch_size):\n",
        "    batch_x_images = x_test_images[i:i+batch_size]\n",
        "    batch_x_text = x_test_text[i:i+batch_size]\n",
        "    batch_predictions = multi_model.predict([batch_x_images, batch_x_text])\n",
        "    predictions.extend(batch_predictions)\n",
        "\n",
        "predictions = np.array(predictions)\n"
      ],
      "metadata": {
        "id": "wEAMKzkwcSv2",
        "colab": {
          "base_uri": "https://localhost:8080/"
        },
        "outputId": "98e0988f-f397-432d-cbea-de776d886fe2"
      },
      "execution_count": 16,
      "outputs": [
        {
          "output_type": "stream",
          "name": "stdout",
          "text": [
            "2/2 [==============================] - 0s 5ms/step\n",
            "2/2 [==============================] - 0s 5ms/step\n",
            "2/2 [==============================] - 0s 5ms/step\n",
            "2/2 [==============================] - 0s 5ms/step\n",
            "2/2 [==============================] - 0s 5ms/step\n",
            "2/2 [==============================] - 0s 5ms/step\n",
            "2/2 [==============================] - 0s 4ms/step\n",
            "2/2 [==============================] - 0s 5ms/step\n",
            "2/2 [==============================] - 0s 5ms/step\n",
            "2/2 [==============================] - 0s 5ms/step\n",
            "2/2 [==============================] - 0s 4ms/step\n",
            "2/2 [==============================] - 0s 4ms/step\n",
            "2/2 [==============================] - 0s 5ms/step\n",
            "2/2 [==============================] - 0s 5ms/step\n",
            "2/2 [==============================] - 0s 5ms/step\n",
            "2/2 [==============================] - 0s 5ms/step\n",
            "2/2 [==============================] - 0s 5ms/step\n",
            "2/2 [==============================] - 0s 5ms/step\n",
            "2/2 [==============================] - 0s 5ms/step\n",
            "2/2 [==============================] - 0s 6ms/step\n",
            "2/2 [==============================] - 0s 4ms/step\n",
            "2/2 [==============================] - 0s 6ms/step\n",
            "2/2 [==============================] - 0s 5ms/step\n",
            "2/2 [==============================] - 0s 5ms/step\n",
            "2/2 [==============================] - 0s 5ms/step\n",
            "2/2 [==============================] - 0s 9ms/step\n",
            "2/2 [==============================] - 0s 8ms/step\n",
            "2/2 [==============================] - 0s 8ms/step\n",
            "2/2 [==============================] - 0s 5ms/step\n",
            "2/2 [==============================] - 0s 5ms/step\n",
            "2/2 [==============================] - 0s 6ms/step\n",
            "2/2 [==============================] - 0s 7ms/step\n",
            "2/2 [==============================] - 0s 5ms/step\n",
            "2/2 [==============================] - 0s 5ms/step\n",
            "2/2 [==============================] - 0s 4ms/step\n",
            "2/2 [==============================] - 0s 4ms/step\n",
            "2/2 [==============================] - 0s 4ms/step\n",
            "2/2 [==============================] - 0s 5ms/step\n",
            "2/2 [==============================] - 0s 5ms/step\n",
            "2/2 [==============================] - 0s 5ms/step\n",
            "2/2 [==============================] - 0s 5ms/step\n",
            "2/2 [==============================] - 0s 5ms/step\n",
            "2/2 [==============================] - 0s 5ms/step\n",
            "2/2 [==============================] - 0s 8ms/step\n",
            "2/2 [==============================] - 0s 5ms/step\n",
            "2/2 [==============================] - 0s 5ms/step\n",
            "2/2 [==============================] - 0s 4ms/step\n",
            "2/2 [==============================] - 0s 5ms/step\n",
            "2/2 [==============================] - 0s 5ms/step\n",
            "2/2 [==============================] - 0s 5ms/step\n",
            "2/2 [==============================] - 0s 8ms/step\n",
            "2/2 [==============================] - 0s 5ms/step\n",
            "2/2 [==============================] - 0s 5ms/step\n",
            "2/2 [==============================] - 0s 5ms/step\n",
            "2/2 [==============================] - 0s 5ms/step\n",
            "2/2 [==============================] - 0s 5ms/step\n",
            "2/2 [==============================] - 0s 5ms/step\n",
            "2/2 [==============================] - 0s 5ms/step\n",
            "2/2 [==============================] - 0s 5ms/step\n",
            "2/2 [==============================] - 0s 6ms/step\n",
            "2/2 [==============================] - 0s 4ms/step\n",
            "2/2 [==============================] - 0s 5ms/step\n",
            "2/2 [==============================] - 0s 5ms/step\n",
            "2/2 [==============================] - 0s 4ms/step\n",
            "2/2 [==============================] - 0s 5ms/step\n",
            "2/2 [==============================] - 0s 5ms/step\n",
            "2/2 [==============================] - 0s 5ms/step\n",
            "2/2 [==============================] - 0s 5ms/step\n",
            "2/2 [==============================] - 0s 5ms/step\n",
            "2/2 [==============================] - 0s 5ms/step\n",
            "2/2 [==============================] - 0s 5ms/step\n",
            "2/2 [==============================] - 0s 5ms/step\n",
            "2/2 [==============================] - 0s 5ms/step\n",
            "2/2 [==============================] - 0s 5ms/step\n",
            "2/2 [==============================] - 0s 5ms/step\n",
            "2/2 [==============================] - 0s 5ms/step\n",
            "2/2 [==============================] - 0s 8ms/step\n",
            "2/2 [==============================] - 0s 6ms/step\n",
            "2/2 [==============================] - 0s 5ms/step\n",
            "2/2 [==============================] - 0s 5ms/step\n",
            "2/2 [==============================] - 0s 5ms/step\n",
            "2/2 [==============================] - 0s 5ms/step\n",
            "2/2 [==============================] - 0s 4ms/step\n",
            "2/2 [==============================] - 0s 9ms/step\n",
            "2/2 [==============================] - 0s 5ms/step\n",
            "2/2 [==============================] - 0s 5ms/step\n",
            "2/2 [==============================] - 0s 5ms/step\n",
            "2/2 [==============================] - 0s 5ms/step\n",
            "2/2 [==============================] - 0s 5ms/step\n",
            "2/2 [==============================] - 0s 5ms/step\n",
            "2/2 [==============================] - 0s 5ms/step\n",
            "2/2 [==============================] - 0s 5ms/step\n",
            "2/2 [==============================] - 0s 5ms/step\n",
            "2/2 [==============================] - 0s 6ms/step\n",
            "2/2 [==============================] - 0s 5ms/step\n",
            "2/2 [==============================] - 0s 5ms/step\n",
            "2/2 [==============================] - 0s 5ms/step\n",
            "2/2 [==============================] - 0s 6ms/step\n",
            "2/2 [==============================] - 0s 5ms/step\n",
            "2/2 [==============================] - 0s 5ms/step\n",
            "2/2 [==============================] - 0s 5ms/step\n",
            "2/2 [==============================] - 0s 5ms/step\n",
            "2/2 [==============================] - 0s 4ms/step\n",
            "2/2 [==============================] - 0s 4ms/step\n",
            "2/2 [==============================] - 0s 5ms/step\n",
            "2/2 [==============================] - 0s 5ms/step\n",
            "2/2 [==============================] - 0s 5ms/step\n",
            "2/2 [==============================] - 0s 5ms/step\n",
            "2/2 [==============================] - 0s 5ms/step\n",
            "2/2 [==============================] - 0s 5ms/step\n",
            "2/2 [==============================] - 0s 4ms/step\n",
            "2/2 [==============================] - 0s 5ms/step\n",
            "2/2 [==============================] - 0s 5ms/step\n",
            "2/2 [==============================] - 0s 5ms/step\n",
            "2/2 [==============================] - 0s 5ms/step\n",
            "2/2 [==============================] - 0s 5ms/step\n",
            "2/2 [==============================] - 0s 5ms/step\n",
            "2/2 [==============================] - 0s 4ms/step\n",
            "2/2 [==============================] - 0s 6ms/step\n",
            "2/2 [==============================] - 0s 5ms/step\n",
            "2/2 [==============================] - 0s 4ms/step\n",
            "2/2 [==============================] - 0s 5ms/step\n",
            "2/2 [==============================] - 0s 5ms/step\n",
            "2/2 [==============================] - 0s 6ms/step\n",
            "2/2 [==============================] - 0s 5ms/step\n",
            "2/2 [==============================] - 0s 5ms/step\n",
            "2/2 [==============================] - 0s 6ms/step\n",
            "2/2 [==============================] - 0s 4ms/step\n",
            "2/2 [==============================] - 0s 5ms/step\n",
            "2/2 [==============================] - 0s 6ms/step\n",
            "2/2 [==============================] - 0s 6ms/step\n",
            "2/2 [==============================] - 0s 5ms/step\n",
            "2/2 [==============================] - 0s 5ms/step\n",
            "2/2 [==============================] - 0s 5ms/step\n",
            "2/2 [==============================] - 0s 4ms/step\n",
            "2/2 [==============================] - 0s 5ms/step\n",
            "2/2 [==============================] - 0s 5ms/step\n",
            "2/2 [==============================] - 0s 4ms/step\n",
            "2/2 [==============================] - 0s 6ms/step\n",
            "2/2 [==============================] - 0s 6ms/step\n",
            "2/2 [==============================] - 0s 5ms/step\n",
            "2/2 [==============================] - 0s 5ms/step\n",
            "2/2 [==============================] - 0s 5ms/step\n",
            "2/2 [==============================] - 0s 6ms/step\n",
            "2/2 [==============================] - 0s 6ms/step\n",
            "2/2 [==============================] - 0s 4ms/step\n",
            "2/2 [==============================] - 0s 5ms/step\n",
            "2/2 [==============================] - 0s 5ms/step\n",
            "2/2 [==============================] - 0s 4ms/step\n",
            "2/2 [==============================] - 0s 5ms/step\n",
            "2/2 [==============================] - 0s 5ms/step\n",
            "2/2 [==============================] - 0s 5ms/step\n",
            "2/2 [==============================] - 0s 5ms/step\n",
            "2/2 [==============================] - 0s 5ms/step\n",
            "2/2 [==============================] - 0s 5ms/step\n",
            "2/2 [==============================] - 0s 5ms/step\n",
            "1/1 [==============================] - 0s 255ms/step\n"
          ]
        }
      ]
    },
    {
      "cell_type": "code",
      "source": [
        "from sklearn.metrics import accuracy_score\n",
        "\n",
        "# Convert probabilities to binary labels\n",
        "binary_predictions = (predictions > 0.5).astype(int)  # Adjust the threshold if needed\n",
        "\n",
        "# Calculate accuracy score\n",
        "accuracy = accuracy_score(y_test_text[:num_samples], binary_predictions)\n",
        "print(\"Accuracy on test data:\", accuracy)\n"
      ],
      "metadata": {
        "id": "X8ZgltA5c3Yl",
        "colab": {
          "base_uri": "https://localhost:8080/"
        },
        "outputId": "7750dc35-2291-4598-84bf-227424685416"
      },
      "execution_count": 17,
      "outputs": [
        {
          "output_type": "stream",
          "name": "stdout",
          "text": [
            "Accuracy on test data: 0.8379\n"
          ]
        }
      ]
    }
  ],
  "metadata": {
    "colab": {
      "provenance": [],
      "gpuType": "T4",
      "include_colab_link": true
    },
    "kernelspec": {
      "display_name": "Python 3",
      "name": "python3"
    },
    "language_info": {
      "name": "python"
    },
    "accelerator": "GPU"
  },
  "nbformat": 4,
  "nbformat_minor": 0
}